{
  "nbformat": 4,
  "nbformat_minor": 0,
  "metadata": {
    "colab": {
      "name": "FutPythonTrader_02.ipynb",
      "provenance": [],
      "collapsed_sections": [],
      "private_outputs": true
    },
    "kernelspec": {
      "name": "python3",
      "display_name": "Python 3"
    },
    "language_info": {
      "name": "python"
    }
  },
  "cells": [
    {
      "cell_type": "markdown",
      "source": [
        "Importando as Bibliotecas"
      ],
      "metadata": {
        "id": "xyYUhk6remR9"
      }
    },
    {
      "cell_type": "code",
      "execution_count": null,
      "metadata": {
        "id": "bknPLhIHeKs1"
      },
      "outputs": [],
      "source": [
        "import pandas as pd"
      ]
    },
    {
      "cell_type": "markdown",
      "source": [
        "Coletando as planilhas das últimas três temporadas da Premier League"
      ],
      "metadata": {
        "id": "vZ-Bb6N-eo-H"
      }
    },
    {
      "cell_type": "code",
      "source": [
        "df1 = pd.read_csv(\"https://www.football-data.co.uk/mmz4281/2122/E0.csv\")\n",
        "df2 = pd.read_csv(\"https://www.football-data.co.uk/mmz4281/2021/E0.csv\")\n",
        "df3 = pd.read_csv(\"https://www.football-data.co.uk/mmz4281/1920/E0.csv\")"
      ],
      "metadata": {
        "id": "TQQpHVhVex3O"
      },
      "execution_count": null,
      "outputs": []
    },
    {
      "cell_type": "markdown",
      "source": [
        "Concatenando as Planilhas"
      ],
      "metadata": {
        "id": "TSqOmpuTx6n8"
      }
    },
    {
      "cell_type": "code",
      "source": [
        "df = [df1, df2, df3]\n",
        "df = pd.concat(df)"
      ],
      "metadata": {
        "id": "i6PFn7ssx-sq"
      },
      "execution_count": null,
      "outputs": []
    },
    {
      "cell_type": "markdown",
      "source": [
        "Visualizando o arquivo gerado"
      ],
      "metadata": {
        "id": "nddKL7k1gWcQ"
      }
    },
    {
      "cell_type": "code",
      "source": [
        "df"
      ],
      "metadata": {
        "id": "jdCPQN1DtmFu"
      },
      "execution_count": null,
      "outputs": []
    },
    {
      "cell_type": "markdown",
      "source": [
        "Selecionando as colunas que serão utilizadas"
      ],
      "metadata": {
        "id": "MYdoxjhPe2sq"
      }
    },
    {
      "cell_type": "code",
      "source": [
        "df = df[['Date','HomeTeam','AwayTeam','FTHG','FTAG','FTR','B365H','B365D','B365A']]"
      ],
      "metadata": {
        "id": "3JQRytp9fA65"
      },
      "execution_count": null,
      "outputs": []
    },
    {
      "cell_type": "markdown",
      "source": [
        "Renomenando as colunas"
      ],
      "metadata": {
        "id": "SE5mmJBGe8vA"
      }
    },
    {
      "cell_type": "code",
      "source": [
        "df.columns = ['Data','Mandante','Visitante','Gols Mandante','Gols Visitante','Resultado','Odds Mandante','Odds Empate','Odds Visitante']"
      ],
      "metadata": {
        "id": "J7dJv1qcfIO1"
      },
      "execution_count": null,
      "outputs": []
    },
    {
      "cell_type": "markdown",
      "source": [
        "Visualizando o Resultado Final"
      ],
      "metadata": {
        "id": "HztQDswvgus2"
      }
    },
    {
      "cell_type": "code",
      "source": [
        "df"
      ],
      "metadata": {
        "id": "JHhhNPsbtqZ4"
      },
      "execution_count": null,
      "outputs": []
    },
    {
      "cell_type": "markdown",
      "source": [
        "Exportando arquivo inicial para o Excel"
      ],
      "metadata": {
        "id": "GWw7Z239fOZZ"
      }
    },
    {
      "cell_type": "code",
      "source": [
        "df.to_excel(\"PremierLeague_3temporadas.xlsx\")"
      ],
      "metadata": {
        "id": "VKAW7L5OfRuQ"
      },
      "execution_count": null,
      "outputs": []
    }
  ]
}