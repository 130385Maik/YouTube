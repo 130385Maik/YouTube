{
  "nbformat": 4,
  "nbformat_minor": 0,
  "metadata": {
    "colab": {
      "name": "FutPythonTrader_Análises_06.ipynb",
      "provenance": [],
      "collapsed_sections": [
        "sHwRHe5YcHYn",
        "JliNVo_Dc4mh",
        "dL_3kc5aTbdF"
      ],
      "private_outputs": true
    },
    "kernelspec": {
      "name": "python3",
      "display_name": "Python 3"
    },
    "language_info": {
      "name": "python"
    }
  },
  "cells": [
    {
      "cell_type": "markdown",
      "source": [
        "# Importando as Bibliotecas e o DataFrame"
      ],
      "metadata": {
        "id": "sHwRHe5YcHYn"
      }
    },
    {
      "cell_type": "code",
      "execution_count": null,
      "metadata": {
        "id": "bknPLhIHeKs1"
      },
      "outputs": [],
      "source": [
        "import pandas as pd\n",
        "from google.colab import data_table\n",
        "data_table.enable_dataframe_formatter()\n",
        "import warnings\n",
        "warnings.filterwarnings('ignore')"
      ]
    },
    {
      "cell_type": "code",
      "source": [
        "df = pd.read_csv(\"https://www.football-data.co.uk/mmz4281/2122/E0.csv\")\n",
        "df['Liga'] = 'Inglaterra 1'"
      ],
      "metadata": {
        "id": "TQQpHVhVex3O"
      },
      "execution_count": null,
      "outputs": []
    },
    {
      "cell_type": "code",
      "source": [
        "df = df[['Liga','Date','HomeTeam','AwayTeam','HTHG','HTAG','HTR','FTHG','FTAG','FTR','B365H','B365D','B365A']]\n",
        "df.columns = ['League','Date','Home','Away','Goals_H_HT','Goals_A_HT','Result_HT','Goals_H_FT','Goals_A_FT','Result_FT','Odd_H','Odds_D','Odds_A']"
      ],
      "metadata": {
        "id": "3JQRytp9fA65"
      },
      "execution_count": null,
      "outputs": []
    },
    {
      "cell_type": "code",
      "source": [
        "df.info()"
      ],
      "metadata": {
        "id": "MOhjjJi9HZkF"
      },
      "execution_count": null,
      "outputs": []
    },
    {
      "cell_type": "markdown",
      "source": [
        "# Dados do Jogo Analisado"
      ],
      "metadata": {
        "id": "IDvv6JAQ2X7p"
      }
    },
    {
      "cell_type": "code",
      "source": [
        "# Criando a Lista de Times para Conhecer a Sintaxe\n",
        "Lista_de_Times = (sorted(df['Home'].unique()));Lista_de_Times\n",
        "print(\"\");print(\"Lista de Times\");print(Lista_de_Times);print(\"\")\n",
        "home = input(\"Digite o nome do Home: \")\n",
        "away = input(\"Digite o nome do Away: \")\n",
        "print(\"\"); print(\"Jogo: \" + home + \" x \" + away)"
      ],
      "metadata": {
        "id": "uC8nBEfJ2eHz"
      },
      "execution_count": null,
      "outputs": []
    },
    {
      "cell_type": "code",
      "source": [
        "flt1 = (df.Home == home) \n",
        "df1 = df[flt1]\n",
        "df1 = df1.tail(5)\n",
        "\n",
        "flt2 = (df.Away == away) \n",
        "df2 = df[flt2]\n",
        "df2 = df2.tail(5)\n",
        "\n",
        "df_jogo=[df1, df2]\n",
        "df_jogo = pd.concat(df_jogo)"
      ],
      "metadata": {
        "id": "86U_nzn62eOM"
      },
      "execution_count": null,
      "outputs": []
    },
    {
      "cell_type": "markdown",
      "source": [
        "# Análise HT"
      ],
      "metadata": {
        "id": "JliNVo_Dc4mh"
      }
    },
    {
      "cell_type": "code",
      "source": [
        "# Calculando as Médias de Gols HT, Desvio Padrão e Coeficiente de Variação\n",
        "media_gols_HT_home = df1[['Home','Goals_H_HT']].groupby('Home').mean()\n",
        "media_gols_HT_away = df2[['Away','Goals_A_HT']].groupby('Away').mean()\n",
        "\n",
        "desvio_padrao_gols_HT_home = df1[['Home','Goals_H_HT']].groupby('Home').std()\n",
        "desvio_padrao_gols_HT_away = df2[['Away','Goals_A_HT']].groupby('Away').std()\n",
        "\n",
        "cv_gols_HT_home = desvio_padrao_gols_HT_home / media_gols_HT_home\n",
        "cv_gols_HT_away = desvio_padrao_gols_HT_away / media_gols_HT_away\n",
        "\n",
        "df_goals_HT=pd.concat([media_gols_HT_home,cv_gols_HT_home,media_gols_HT_away,cv_gols_HT_away],axis=1)\n",
        "df_goals_HT.columns = ['Média_Gols_HT_Home','CV_Gols_HT_Home','Média_Gols_HT_Away','CV_Gols_HT_Away']\n",
        "\n",
        "# Calculando as Porcentagens de Over 0.5 HT, 1.5 HT e 2.5 HT\n",
        "df1['Total_Goals_HT_H'] = df1.apply(lambda row: (row['Goals_H_HT'] + row['Goals_A_HT']), axis=1) \n",
        "df2['Total_Goals_HT_A'] = df2.apply(lambda row: (row['Goals_H_HT'] + row['Goals_A_HT']), axis=1)\n",
        "\n",
        "df1['Over05_HT_H'] = df1.apply(lambda row: 1 if (row['Total_Goals_HT_H'] >= 1) else 0, axis=1) \n",
        "df1['Over15_HT_H'] = df1.apply(lambda row: 1 if (row['Total_Goals_HT_H'] > 1) else 0, axis=1) \n",
        "df1['Over25_HT_H'] = df1.apply(lambda row: 1 if (row['Total_Goals_HT_H'] > 2) else 0, axis=1)   \n",
        "\n",
        "df2['Over05_HT_A'] = df2.apply(lambda row: 1 if (row['Total_Goals_HT_A'] >= 1) else 0, axis=1) \n",
        "df2['Over15_HT_A'] = df2.apply(lambda row: 1 if (row['Total_Goals_HT_A'] > 1) else 0, axis=1) \n",
        "df2['Over25_HT_A'] = df2.apply(lambda row: 1 if (row['Total_Goals_HT_A'] > 2) else 0, axis=1)   \n",
        "\n",
        "porcentagem_over05_HT_H = df1[['Home','Over05_HT_H']].groupby('Home').mean() * 100\n",
        "porcentagem_over15_HT_H = df1[['Home','Over15_HT_H']].groupby('Home').mean() * 100\n",
        "porcentagem_over25_HT_H = df1[['Home','Over25_HT_H']].groupby('Home').mean() * 100\n",
        "\n",
        "porcentagem_over05_HT_A = df2[['Away','Over05_HT_A']].groupby('Away').mean() * 100\n",
        "porcentagem_over15_HT_A = df2[['Away','Over15_HT_A']].groupby('Away').mean() * 100\n",
        "porcentagem_over25_HT_A = df2[['Away','Over25_HT_A']].groupby('Away').mean() * 100\n",
        "\n",
        "df_porcentagens_HT=pd.concat([porcentagem_over05_HT_H,porcentagem_over05_HT_A,porcentagem_over15_HT_H,porcentagem_over15_HT_A,porcentagem_over25_HT_H,porcentagem_over25_HT_A],axis=1)\n",
        "df_porcentagens_HT.columns = ['%_Over05_HT_Home','%_Over05_HT_Away','%_Over15_HT_Home','%_Over15_HT_Away','%_Over25_HT_Home','%_Over25_HT_Away']\n",
        "\n",
        "# Juntando as Porcentagens com as Médias e CV\n",
        "df_analise_HT = pd.concat([df_goals_HT,df_porcentagens_HT],axis=1)\n",
        "# df_analise_HT = df_analise_HT.dropna()"
      ],
      "metadata": {
        "id": "6LeZneEtOPGH"
      },
      "execution_count": null,
      "outputs": []
    },
    {
      "cell_type": "markdown",
      "source": [
        "# Análise FT"
      ],
      "metadata": {
        "id": "dL_3kc5aTbdF"
      }
    },
    {
      "cell_type": "code",
      "source": [
        "# Calculando as Médias de Gols FT, Desvio Padrão e Coeficiente de Variação\n",
        "media_gols_FT_home = df1[['Home','Goals_H_FT']].groupby('Home').mean()\n",
        "media_gols_FT_away = df2[['Away','Goals_A_FT']].groupby('Away').mean()\n",
        "\n",
        "desvio_padrao_gols_FT_home = df1[['Home','Goals_H_FT']].groupby('Home').std()\n",
        "desvio_padrao_gols_FT_away = df2[['Away','Goals_A_FT']].groupby('Away').std()\n",
        "\n",
        "cv_gols_FT_home = desvio_padrao_gols_FT_home / media_gols_FT_home\n",
        "cv_gols_FT_away = desvio_padrao_gols_FT_away / media_gols_FT_away\n",
        "\n",
        "df_goals_FT=pd.concat([media_gols_FT_home,cv_gols_FT_home,media_gols_FT_away,cv_gols_FT_away],axis=1)\n",
        "df_goals_FT.columns = ['Média_Gols_FT_Home','CV_Gols_FT_Home','Média_Gols_FT_Away','CV_Gols_FT_Away']\n",
        "\n",
        "# Calculando as Porcentagens de Over 0.5 FT, 1.5 FT e 2.5 FT\n",
        "df1['Total_Goals_FT_H'] = df1.apply(lambda row: (row['Goals_H_FT'] + row['Goals_A_FT']), axis=1) \n",
        "df2['Total_Goals_FT_A'] = df2.apply(lambda row: (row['Goals_H_FT'] + row['Goals_A_FT']), axis=1)\n",
        "\n",
        "df1['Over05_FT_H'] = df1.apply(lambda row: 1 if (row['Total_Goals_FT_H'] >= 1) else 0, axis=1) \n",
        "df1['Over15_FT_H'] = df1.apply(lambda row: 1 if (row['Total_Goals_FT_H'] > 1) else 0, axis=1) \n",
        "df1['Over25_FT_H'] = df1.apply(lambda row: 1 if (row['Total_Goals_FT_H'] > 2) else 0, axis=1)   \n",
        "\n",
        "df2['Over05_FT_A'] = df2.apply(lambda row: 1 if (row['Total_Goals_FT_A'] >= 1) else 0, axis=1) \n",
        "df2['Over15_FT_A'] = df2.apply(lambda row: 1 if (row['Total_Goals_FT_A'] > 1) else 0, axis=1) \n",
        "df2['Over25_FT_A'] = df2.apply(lambda row: 1 if (row['Total_Goals_FT_A'] > 2) else 0, axis=1)   \n",
        "\n",
        "porcentagem_over05_FT_H = df1[['Home','Over05_FT_H']].groupby('Home').mean() * 100\n",
        "porcentagem_over15_FT_H = df1[['Home','Over15_FT_H']].groupby('Home').mean() * 100\n",
        "porcentagem_over25_FT_H = df1[['Home','Over25_FT_H']].groupby('Home').mean() * 100\n",
        "\n",
        "porcentagem_over05_FT_A = df2[['Away','Over05_FT_A']].groupby('Away').mean() * 100\n",
        "porcentagem_over15_FT_A = df2[['Away','Over15_FT_A']].groupby('Away').mean() * 100\n",
        "porcentagem_over25_FT_A = df2[['Away','Over25_FT_A']].groupby('Away').mean() * 100\n",
        "\n",
        "df_porcentagens_FT=pd.concat([porcentagem_over05_FT_H,porcentagem_over05_FT_A,porcentagem_over15_FT_H,porcentagem_over15_FT_A,porcentagem_over25_FT_H,porcentagem_over25_FT_A],axis=1)\n",
        "df_porcentagens_FT.columns = ['%_Over05_FT_Home','%_Over05_FT_Away','%_Over15_FT_Home','%_Over15_FT_Away','%_Over25_FT_Home','%_Over25_FT_Away']\n",
        "\n",
        "# Juntando as Porcentagens com as Médias e CV\n",
        "df_analise_FT = pd.concat([df_goals_FT,df_porcentagens_FT],axis=1)\n",
        "# df_analise_FT = df_analise_FT.dropna()"
      ],
      "metadata": {
        "id": "XtQeDS91TfLj"
      },
      "execution_count": null,
      "outputs": []
    },
    {
      "cell_type": "markdown",
      "source": [
        "# Impressão dos Resultados"
      ],
      "metadata": {
        "id": "LqZr7B56zD6E"
      }
    },
    {
      "cell_type": "code",
      "source": [
        "df_analise = pd.concat([df_analise_HT,df_analise_FT],axis=1); \n",
        "df1 = df_analise[['Média_Gols_HT_Home','CV_Gols_HT_Home','%_Over05_HT_Home','%_Over15_HT_Home','%_Over25_HT_Home','Média_Gols_FT_Home','CV_Gols_FT_Home','%_Over05_FT_Home','%_Over15_FT_Home','%_Over25_FT_Home']]\n",
        "df2 = df_analise[['Média_Gols_HT_Away','CV_Gols_HT_Away','%_Over05_HT_Away','%_Over15_HT_Away','%_Over25_HT_Away','Média_Gols_FT_Away','CV_Gols_FT_Away','%_Over05_FT_Away','%_Over15_FT_Away','%_Over25_FT_Away']]\n",
        "\n",
        "flt1 = df1[df_analise.index == home]\n",
        "flt2 = df2[df_analise.index == away];"
      ],
      "metadata": {
        "id": "o5OZRzfK0Odm"
      },
      "execution_count": null,
      "outputs": []
    },
    {
      "cell_type": "code",
      "source": [
        "df_jogo"
      ],
      "metadata": {
        "id": "h5YG-crP_KOu"
      },
      "execution_count": null,
      "outputs": []
    },
    {
      "cell_type": "code",
      "source": [
        "display(flt1, flt2)"
      ],
      "metadata": {
        "id": "e0D3-6UOxnbc"
      },
      "execution_count": null,
      "outputs": []
    }
  ]
}