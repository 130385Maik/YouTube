{
  "nbformat": 4,
  "nbformat_minor": 0,
  "metadata": {
    "colab": {
      "name": "FutPythonTrader_Análises_05.ipynb",
      "provenance": [],
      "collapsed_sections": [],
      "private_outputs": true
    },
    "kernelspec": {
      "name": "python3",
      "display_name": "Python 3"
    },
    "language_info": {
      "name": "python"
    }
  },
  "cells": [
    {
      "cell_type": "markdown",
      "source": [
        "Importando as Bibliotecas"
      ],
      "metadata": {
        "id": "xyYUhk6remR9"
      }
    },
    {
      "cell_type": "code",
      "execution_count": null,
      "metadata": {
        "id": "bknPLhIHeKs1"
      },
      "outputs": [],
      "source": [
        "import pandas as pd\n",
        "import warnings\n",
        "warnings.filterwarnings('ignore')"
      ]
    },
    {
      "cell_type": "markdown",
      "source": [
        "Coletando as planilhas das Ligas Principais"
      ],
      "metadata": {
        "id": "vZ-Bb6N-eo-H"
      }
    },
    {
      "cell_type": "code",
      "source": [
        "# Inglaterra 1\n",
        "ENG1_01 = pd.read_csv(\"https://www.football-data.co.uk/mmz4281/2122/E0.csv\")\n",
        "ENG1_02 = pd.read_csv(\"https://www.football-data.co.uk/mmz4281/2021/E0.csv\")\n",
        "ENG1_03 = pd.read_csv(\"https://www.football-data.co.uk/mmz4281/1920/E0.csv\")\n",
        "ENG1_04 = pd.read_csv(\"https://www.football-data.co.uk/mmz4281/1819/E0.csv\")\n",
        "ENG1_05 = pd.read_csv(\"https://www.football-data.co.uk/mmz4281/1718/E0.csv\")\n",
        "ENG1_06 = pd.read_csv(\"https://www.football-data.co.uk/mmz4281/1617/E0.csv\")\n",
        "ENG1_07 = pd.read_csv(\"https://www.football-data.co.uk/mmz4281/1516/E0.csv\")\n",
        "ENG1_08 = pd.read_csv(\"https://www.football-data.co.uk/mmz4281/1415/E0.csv\")\n",
        "ENG1_09 = pd.read_csv(\"https://www.football-data.co.uk/mmz4281/1314/E0.csv\")\n",
        "ENG1_10 = pd.read_csv(\"https://www.football-data.co.uk/mmz4281/1213/E0.csv\")\n",
        "ENG1 = [ENG1_01,ENG1_02,ENG1_03,ENG1_04,ENG1_05,ENG1_06,ENG1_07,ENG1_08,ENG1_09,ENG1_10]\n",
        "ENG1 = pd.concat(ENG1)\n",
        "ENG1['Liga'] = 'Inglaterra 1'\n",
        "\n",
        "# Inglaterra 2\n",
        "ENG2_01 = pd.read_csv(\"https://www.football-data.co.uk/mmz4281/2122/E1.csv\")\n",
        "ENG2_02 = pd.read_csv(\"https://www.football-data.co.uk/mmz4281/2021/E1.csv\")\n",
        "ENG2_03 = pd.read_csv(\"https://www.football-data.co.uk/mmz4281/1920/E1.csv\")\n",
        "ENG2_04 = pd.read_csv(\"https://www.football-data.co.uk/mmz4281/1819/E1.csv\")\n",
        "ENG2_05 = pd.read_csv(\"https://www.football-data.co.uk/mmz4281/1718/E1.csv\")\n",
        "ENG2_06 = pd.read_csv(\"https://www.football-data.co.uk/mmz4281/1617/E1.csv\")\n",
        "ENG2_07 = pd.read_csv(\"https://www.football-data.co.uk/mmz4281/1516/E1.csv\")\n",
        "ENG2_08 = pd.read_csv(\"https://www.football-data.co.uk/mmz4281/1415/E1.csv\")\n",
        "ENG2_09 = pd.read_csv(\"https://www.football-data.co.uk/mmz4281/1314/E1.csv\")\n",
        "ENG2_10 = pd.read_csv(\"https://www.football-data.co.uk/mmz4281/1213/E1.csv\")\n",
        "ENG2 = [ENG2_01,ENG2_02,ENG2_03,ENG2_04,ENG2_05,ENG2_06,ENG2_07,ENG2_08,ENG2_09,ENG2_10]\n",
        "ENG2 = pd.concat(ENG2)\n",
        "ENG2['Liga'] = 'Inglaterra 2'\n",
        "\n",
        "# Escócia 1\n",
        "SCO1_01 = pd.read_csv(\"https://www.football-data.co.uk/mmz4281/2122/SC0.csv\")\n",
        "SCO1_02 = pd.read_csv(\"https://www.football-data.co.uk/mmz4281/2021/SC0.csv\")\n",
        "SCO1_03 = pd.read_csv(\"https://www.football-data.co.uk/mmz4281/1920/SC0.csv\")\n",
        "#SCO1_04 = pd.read_csv(\"https://www.football-data.co.uk/mmz4281/1819/SC0.csv\")\n",
        "SCO1_05 = pd.read_csv(\"https://www.football-data.co.uk/mmz4281/1718/SC0.csv\")\n",
        "SCO1_06 = pd.read_csv(\"https://www.football-data.co.uk/mmz4281/1617/SC0.csv\")\n",
        "SCO1_07 = pd.read_csv(\"https://www.football-data.co.uk/mmz4281/1516/SC0.csv\")\n",
        "SCO1_08 = pd.read_csv(\"https://www.football-data.co.uk/mmz4281/1415/SC0.csv\")\n",
        "SCO1_09 = pd.read_csv(\"https://www.football-data.co.uk/mmz4281/1314/SC0.csv\")\n",
        "SCO1_10 = pd.read_csv(\"https://www.football-data.co.uk/mmz4281/1213/SC0.csv\")\n",
        "# SCO1 = [SCO1_01,SCO1_02,SCO1_03,SCO1_04,SCO1_05,SCO1_06,SCO1_07,SCO1_08,SCO1_09,SCO1_10]\n",
        "SCO1 = [SCO1_01,SCO1_02,SCO1_03,SCO1_05,SCO1_06,SCO1_07,SCO1_08,SCO1_09,SCO1_10]\n",
        "SCO1 = pd.concat(SCO1)\n",
        "SCO1['Liga'] = 'Escócia 1'\n",
        "\n",
        "# Alemanha 1\n",
        "GER1_01 = pd.read_csv(\"https://www.football-data.co.uk/mmz4281/2122/D1.csv\")\n",
        "GER1_02 = pd.read_csv(\"https://www.football-data.co.uk/mmz4281/2021/D1.csv\")\n",
        "GER1_03 = pd.read_csv(\"https://www.football-data.co.uk/mmz4281/1920/D1.csv\")\n",
        "GER1_04 = pd.read_csv(\"https://www.football-data.co.uk/mmz4281/1819/D1.csv\")\n",
        "GER1_05 = pd.read_csv(\"https://www.football-data.co.uk/mmz4281/1718/D1.csv\")\n",
        "GER1_06 = pd.read_csv(\"https://www.football-data.co.uk/mmz4281/1617/D1.csv\")\n",
        "GER1_07 = pd.read_csv(\"https://www.football-data.co.uk/mmz4281/1516/D1.csv\")\n",
        "GER1_08 = pd.read_csv(\"https://www.football-data.co.uk/mmz4281/1415/D1.csv\")\n",
        "GER1_09 = pd.read_csv(\"https://www.football-data.co.uk/mmz4281/1314/D1.csv\")\n",
        "GER1_10 = pd.read_csv(\"https://www.football-data.co.uk/mmz4281/1213/D1.csv\")\n",
        "GER1 = [GER1_01,GER1_02,GER1_03,GER1_04,GER1_05,GER1_06,GER1_07,GER1_08,GER1_09,GER1_10]\n",
        "GER1 = pd.concat(GER1)\n",
        "GER1['Liga'] = 'Alemanha 1'\n",
        "\n",
        "# Alemanha 2\n",
        "GER2_01 = pd.read_csv(\"https://www.football-data.co.uk/mmz4281/2122/D2.csv\")\n",
        "GER2_02 = pd.read_csv(\"https://www.football-data.co.uk/mmz4281/2021/D2.csv\")\n",
        "GER2_03 = pd.read_csv(\"https://www.football-data.co.uk/mmz4281/1920/D2.csv\")\n",
        "GER2_04 = pd.read_csv(\"https://www.football-data.co.uk/mmz4281/1819/D2.csv\")\n",
        "GER2_05 = pd.read_csv(\"https://www.football-data.co.uk/mmz4281/1718/D2.csv\")\n",
        "GER2_06 = pd.read_csv(\"https://www.football-data.co.uk/mmz4281/1617/D2.csv\")\n",
        "GER2_07 = pd.read_csv(\"https://www.football-data.co.uk/mmz4281/1516/D2.csv\")\n",
        "GER2_08 = pd.read_csv(\"https://www.football-data.co.uk/mmz4281/1415/D2.csv\")\n",
        "GER2_09 = pd.read_csv(\"https://www.football-data.co.uk/mmz4281/1314/D2.csv\")\n",
        "GER2_10 = pd.read_csv(\"https://www.football-data.co.uk/mmz4281/1213/D2.csv\")\n",
        "GER2 = [GER2_01,GER2_02,GER2_03,GER2_04,GER2_05,GER2_06,GER2_07,GER2_08,GER2_09,GER2_10]\n",
        "GER2 = pd.concat(GER2)\n",
        "GER2['Liga'] = 'Alemanha 2'\n",
        "\n",
        "# Itália 1\n",
        "ITA1_01 = pd.read_csv(\"https://www.football-data.co.uk/mmz4281/2122/I1.csv\")\n",
        "ITA1_02 = pd.read_csv(\"https://www.football-data.co.uk/mmz4281/2021/I1.csv\")\n",
        "ITA1_03 = pd.read_csv(\"https://www.football-data.co.uk/mmz4281/1920/I1.csv\")\n",
        "ITA1_04 = pd.read_csv(\"https://www.football-data.co.uk/mmz4281/1819/I1.csv\")\n",
        "ITA1_05 = pd.read_csv(\"https://www.football-data.co.uk/mmz4281/1718/I1.csv\")\n",
        "ITA1_06 = pd.read_csv(\"https://www.football-data.co.uk/mmz4281/1617/I1.csv\")\n",
        "ITA1_07 = pd.read_csv(\"https://www.football-data.co.uk/mmz4281/1516/I1.csv\")\n",
        "ITA1_08 = pd.read_csv(\"https://www.football-data.co.uk/mmz4281/1415/I1.csv\")\n",
        "ITA1_09 = pd.read_csv(\"https://www.football-data.co.uk/mmz4281/1314/I1.csv\")\n",
        "ITA1_10 = pd.read_csv(\"https://www.football-data.co.uk/mmz4281/1213/I1.csv\")\n",
        "ITA1 = [ITA1_01,ITA1_02,ITA1_03,ITA1_04,ITA1_05,ITA1_06,ITA1_07,ITA1_08,ITA1_09,ITA1_10]\n",
        "ITA1 = pd.concat(ITA1)\n",
        "ITA1['Liga'] = 'Itália 1'\n",
        "\n",
        "# Itália 2\n",
        "ITA2_01 = pd.read_csv(\"https://www.football-data.co.uk/mmz4281/2122/I2.csv\")\n",
        "ITA2_02 = pd.read_csv(\"https://www.football-data.co.uk/mmz4281/2021/I2.csv\")\n",
        "ITA2_03 = pd.read_csv(\"https://www.football-data.co.uk/mmz4281/1920/I2.csv\")\n",
        "# ITA2_04 = pd.read_csv(\"https://www.football-data.co.uk/mmz4281/1819/I2.csv\")\n",
        "ITA2_05 = pd.read_csv(\"https://www.football-data.co.uk/mmz4281/1718/I2.csv\")\n",
        "ITA2_06 = pd.read_csv(\"https://www.football-data.co.uk/mmz4281/1617/I2.csv\")\n",
        "ITA2_07 = pd.read_csv(\"https://www.football-data.co.uk/mmz4281/1516/I2.csv\")\n",
        "ITA2_08 = pd.read_csv(\"https://www.football-data.co.uk/mmz4281/1415/I2.csv\")\n",
        "ITA2_09 = pd.read_csv(\"https://www.football-data.co.uk/mmz4281/1314/I2.csv\")\n",
        "ITA2_10 = pd.read_csv(\"https://www.football-data.co.uk/mmz4281/1213/I2.csv\")\n",
        "# ITA2 = [ITA2_01,ITA2_02,ITA2_03,ITA2_04,ITA2_05,ITA2_06,ITA2_07,ITA2_08,ITA2_09,ITA2_10]\n",
        "ITA2 = [ITA2_01,ITA2_02,ITA2_03,ITA2_05,ITA2_06,ITA2_07,ITA2_08,ITA2_09,ITA2_10]\n",
        "ITA2 = pd.concat(ITA2)\n",
        "ITA2['Liga'] = 'Itália 2'\n",
        "\n",
        "# Espanha 1\n",
        "SPA1_01 = pd.read_csv(\"https://www.football-data.co.uk/mmz4281/2122/SP1.csv\")\n",
        "SPA1_02 = pd.read_csv(\"https://www.football-data.co.uk/mmz4281/2021/SP1.csv\")\n",
        "SPA1_03 = pd.read_csv(\"https://www.football-data.co.uk/mmz4281/1920/SP1.csv\")\n",
        "SPA1_04 = pd.read_csv(\"https://www.football-data.co.uk/mmz4281/1819/SP1.csv\")\n",
        "SPA1_05 = pd.read_csv(\"https://www.football-data.co.uk/mmz4281/1718/SP1.csv\")\n",
        "SPA1_06 = pd.read_csv(\"https://www.football-data.co.uk/mmz4281/1617/SP1.csv\")\n",
        "SPA1_07 = pd.read_csv(\"https://www.football-data.co.uk/mmz4281/1516/SP1.csv\")\n",
        "SPA1_08 = pd.read_csv(\"https://www.football-data.co.uk/mmz4281/1415/SP1.csv\")\n",
        "SPA1_09 = pd.read_csv(\"https://www.football-data.co.uk/mmz4281/1314/SP1.csv\")\n",
        "SPA1_10 = pd.read_csv(\"https://www.football-data.co.uk/mmz4281/1213/SP1.csv\")\n",
        "SPA1 = [SPA1_01,SPA1_02,SPA1_03,SPA1_04,SPA1_05,SPA1_06,SPA1_07,SPA1_08,SPA1_09,SPA1_10]\n",
        "SPA1 = pd.concat(SPA1)\n",
        "SPA1['Liga'] = 'Espanha 1'\n",
        "\n",
        "# Espanha 2\n",
        "SPA2_01 = pd.read_csv(\"https://www.football-data.co.uk/mmz4281/2122/SP2.csv\")\n",
        "SPA2_02 = pd.read_csv(\"https://www.football-data.co.uk/mmz4281/2021/SP2.csv\")\n",
        "SPA2_03 = pd.read_csv(\"https://www.football-data.co.uk/mmz4281/1920/SP2.csv\")\n",
        "SPA2_04 = pd.read_csv(\"https://www.football-data.co.uk/mmz4281/1819/SP2.csv\")\n",
        "SPA2_05 = pd.read_csv(\"https://www.football-data.co.uk/mmz4281/1718/SP2.csv\")\n",
        "SPA2_06 = pd.read_csv(\"https://www.football-data.co.uk/mmz4281/1617/SP2.csv\")\n",
        "SPA2_07 = pd.read_csv(\"https://www.football-data.co.uk/mmz4281/1516/SP2.csv\")\n",
        "SPA2_08 = pd.read_csv(\"https://www.football-data.co.uk/mmz4281/1415/SP2.csv\")\n",
        "SPA2_09 = pd.read_csv(\"https://www.football-data.co.uk/mmz4281/1314/SP2.csv\")\n",
        "SPA2_10 = pd.read_csv(\"https://www.football-data.co.uk/mmz4281/1213/SP2.csv\")\n",
        "SPA2 = [SPA2_01,SPA2_02,SPA2_03,SPA2_04,SPA2_05,SPA2_06,SPA2_07,SPA2_08,SPA2_09,SPA2_10]\n",
        "SPA2 = pd.concat(SPA2)\n",
        "SPA2['Liga'] = 'Espanha 2'\n",
        "\n",
        "# França 1\n",
        "FRA1_01 = pd.read_csv(\"https://www.football-data.co.uk/mmz4281/2122/F1.csv\")\n",
        "FRA1_02 = pd.read_csv(\"https://www.football-data.co.uk/mmz4281/2021/F1.csv\")\n",
        "FRA1_03 = pd.read_csv(\"https://www.football-data.co.uk/mmz4281/1920/F1.csv\")\n",
        "FRA1_04 = pd.read_csv(\"https://www.football-data.co.uk/mmz4281/1819/F1.csv\")\n",
        "FRA1_05 = pd.read_csv(\"https://www.football-data.co.uk/mmz4281/1718/F1.csv\")\n",
        "FRA1_06 = pd.read_csv(\"https://www.football-data.co.uk/mmz4281/1617/F1.csv\")\n",
        "FRA1_07 = pd.read_csv(\"https://www.football-data.co.uk/mmz4281/1516/F1.csv\")\n",
        "FRA1_08 = pd.read_csv(\"https://www.football-data.co.uk/mmz4281/1415/F1.csv\")\n",
        "FRA1_09 = pd.read_csv(\"https://www.football-data.co.uk/mmz4281/1314/F1.csv\")\n",
        "FRA1_10 = pd.read_csv(\"https://www.football-data.co.uk/mmz4281/1213/F1.csv\")\n",
        "FRA1 = [FRA1_01,FRA1_02,FRA1_03,FRA1_04,FRA1_05,FRA1_06,FRA1_07,FRA1_08,FRA1_09,FRA1_10]\n",
        "FRA1 = pd.concat(FRA1)\n",
        "FRA1['Liga'] = 'França 1'\n",
        "\n",
        "# França 2\n",
        "FRA2_01 = pd.read_csv(\"https://www.football-data.co.uk/mmz4281/2122/F2.csv\")\n",
        "FRA2_02 = pd.read_csv(\"https://www.football-data.co.uk/mmz4281/2021/F2.csv\")\n",
        "FRA2_03 = pd.read_csv(\"https://www.football-data.co.uk/mmz4281/1920/F2.csv\")\n",
        "FRA2_04 = pd.read_csv(\"https://www.football-data.co.uk/mmz4281/1819/F2.csv\")\n",
        "FRA2_05 = pd.read_csv(\"https://www.football-data.co.uk/mmz4281/1718/F2.csv\")\n",
        "FRA2_06 = pd.read_csv(\"https://www.football-data.co.uk/mmz4281/1617/F2.csv\")\n",
        "FRA2_07 = pd.read_csv(\"https://www.football-data.co.uk/mmz4281/1516/F2.csv\")\n",
        "FRA2_08 = pd.read_csv(\"https://www.football-data.co.uk/mmz4281/1415/F2.csv\")\n",
        "FRA2_09 = pd.read_csv(\"https://www.football-data.co.uk/mmz4281/1314/F2.csv\")\n",
        "FRA2_10 = pd.read_csv(\"https://www.football-data.co.uk/mmz4281/1213/F2.csv\")\n",
        "FRA2 = [FRA2_01,FRA2_02,FRA2_03,FRA2_04,FRA2_05,FRA2_06,FRA2_07,FRA2_08,FRA2_09,FRA2_10]\n",
        "FRA2 = pd.concat(FRA2)\n",
        "FRA2['Liga'] = 'França 2'\n",
        "\n",
        "# Holanda 1\n",
        "NET1_01 = pd.read_csv(\"https://www.football-data.co.uk/mmz4281/2122/N1.csv\")\n",
        "NET1_02 = pd.read_csv(\"https://www.football-data.co.uk/mmz4281/2021/N1.csv\")\n",
        "NET1_03 = pd.read_csv(\"https://www.football-data.co.uk/mmz4281/1920/N1.csv\")\n",
        "NET1_04 = pd.read_csv(\"https://www.football-data.co.uk/mmz4281/1819/N1.csv\")\n",
        "NET1_05 = pd.read_csv(\"https://www.football-data.co.uk/mmz4281/1718/N1.csv\")\n",
        "NET1_06 = pd.read_csv(\"https://www.football-data.co.uk/mmz4281/1617/N1.csv\")\n",
        "NET1_07 = pd.read_csv(\"https://www.football-data.co.uk/mmz4281/1516/N1.csv\")\n",
        "NET1_08 = pd.read_csv(\"https://www.football-data.co.uk/mmz4281/1415/N1.csv\")\n",
        "NET1_09 = pd.read_csv(\"https://www.football-data.co.uk/mmz4281/1314/N1.csv\")\n",
        "NET1_10 = pd.read_csv(\"https://www.football-data.co.uk/mmz4281/1213/N1.csv\")\n",
        "NET1 = [NET1_01,NET1_02,NET1_03,NET1_04,NET1_05,NET1_06,NET1_07,NET1_08,NET1_09,NET1_10]\n",
        "NET1 = pd.concat(NET1)\n",
        "NET1['Liga'] = 'Holanda 1'\n",
        "\n",
        "# Bélgica 1\n",
        "BEL1_01 = pd.read_csv(\"https://www.football-data.co.uk/mmz4281/2122/B1.csv\")\n",
        "BEL1_02 = pd.read_csv(\"https://www.football-data.co.uk/mmz4281/2021/B1.csv\")\n",
        "BEL1_03 = pd.read_csv(\"https://www.football-data.co.uk/mmz4281/1920/B1.csv\")\n",
        "BEL1_04 = pd.read_csv(\"https://www.football-data.co.uk/mmz4281/1819/B1.csv\")\n",
        "BEL1_05 = pd.read_csv(\"https://www.football-data.co.uk/mmz4281/1718/B1.csv\")\n",
        "BEL1_06 = pd.read_csv(\"https://www.football-data.co.uk/mmz4281/1617/B1.csv\")\n",
        "BEL1_07 = pd.read_csv(\"https://www.football-data.co.uk/mmz4281/1516/B1.csv\")\n",
        "BEL1_08 = pd.read_csv(\"https://www.football-data.co.uk/mmz4281/1415/B1.csv\")\n",
        "BEL1_09 = pd.read_csv(\"https://www.football-data.co.uk/mmz4281/1314/B1.csv\")\n",
        "BEL1_10 = pd.read_csv(\"https://www.football-data.co.uk/mmz4281/1213/B1.csv\")\n",
        "BEL1 = [BEL1_01,BEL1_02,BEL1_03,BEL1_04,BEL1_05,BEL1_06,BEL1_07,BEL1_08,BEL1_09,BEL1_10]\n",
        "BEL1 = pd.concat(BEL1)\n",
        "BEL1['Liga'] = 'Bélgica 1'\n",
        "\n",
        "# Portugal 1\n",
        "POR1_01 = pd.read_csv(\"https://www.football-data.co.uk/mmz4281/2122/P1.csv\")\n",
        "POR1_02 = pd.read_csv(\"https://www.football-data.co.uk/mmz4281/2021/P1.csv\")\n",
        "POR1_03 = pd.read_csv(\"https://www.football-data.co.uk/mmz4281/1920/P1.csv\")\n",
        "POR1_04 = pd.read_csv(\"https://www.football-data.co.uk/mmz4281/1819/P1.csv\")\n",
        "POR1_05 = pd.read_csv(\"https://www.football-data.co.uk/mmz4281/1718/P1.csv\")\n",
        "POR1_06 = pd.read_csv(\"https://www.football-data.co.uk/mmz4281/1617/P1.csv\")\n",
        "POR1_07 = pd.read_csv(\"https://www.football-data.co.uk/mmz4281/1516/P1.csv\")\n",
        "POR1_08 = pd.read_csv(\"https://www.football-data.co.uk/mmz4281/1415/P1.csv\")\n",
        "POR1_09 = pd.read_csv(\"https://www.football-data.co.uk/mmz4281/1314/P1.csv\")\n",
        "POR1_10 = pd.read_csv(\"https://www.football-data.co.uk/mmz4281/1213/P1.csv\")\n",
        "POR1 = [POR1_01,POR1_02,POR1_03,POR1_04,POR1_05,POR1_06,POR1_07,POR1_08,POR1_09,POR1_10]\n",
        "POR1 = pd.concat(POR1)\n",
        "POR1['Liga'] = 'Portugal 1'\n",
        "\n",
        "# Turquia 1\n",
        "TUR1_01 = pd.read_csv(\"https://www.football-data.co.uk/mmz4281/2122/T1.csv\")\n",
        "TUR1_02 = pd.read_csv(\"https://www.football-data.co.uk/mmz4281/2021/T1.csv\")\n",
        "TUR1_03 = pd.read_csv(\"https://www.football-data.co.uk/mmz4281/1920/T1.csv\")\n",
        "TUR1_04 = pd.read_csv(\"https://www.football-data.co.uk/mmz4281/1819/T1.csv\")\n",
        "TUR1_05 = pd.read_csv(\"https://www.football-data.co.uk/mmz4281/1718/T1.csv\")\n",
        "TUR1_06 = pd.read_csv(\"https://www.football-data.co.uk/mmz4281/1617/T1.csv\")\n",
        "TUR1_07 = pd.read_csv(\"https://www.football-data.co.uk/mmz4281/1516/T1.csv\")\n",
        "TUR1_08 = pd.read_csv(\"https://www.football-data.co.uk/mmz4281/1415/T1.csv\")\n",
        "TUR1_09 = pd.read_csv(\"https://www.football-data.co.uk/mmz4281/1314/T1.csv\")\n",
        "TUR1_10 = pd.read_csv(\"https://www.football-data.co.uk/mmz4281/1213/T1.csv\")\n",
        "TUR1 = [TUR1_01,TUR1_02,TUR1_03,TUR1_04,TUR1_05,TUR1_06,TUR1_07,TUR1_08,TUR1_09,TUR1_10]\n",
        "TUR1 = pd.concat(TUR1)\n",
        "TUR1['Liga'] = 'Turquia 1'\n",
        "\n",
        "# Grécia 1\n",
        "GRE1_01 = pd.read_csv(\"https://www.football-data.co.uk/mmz4281/2122/G1.csv\")\n",
        "GRE1_02 = pd.read_csv(\"https://www.football-data.co.uk/mmz4281/2021/G1.csv\")\n",
        "GRE1_03 = pd.read_csv(\"https://www.football-data.co.uk/mmz4281/1920/G1.csv\")\n",
        "GRE1_04 = pd.read_csv(\"https://www.football-data.co.uk/mmz4281/1819/G1.csv\")\n",
        "GRE1_05 = pd.read_csv(\"https://www.football-data.co.uk/mmz4281/1718/G1.csv\")\n",
        "GRE1_06 = pd.read_csv(\"https://www.football-data.co.uk/mmz4281/1617/G1.csv\")\n",
        "GRE1_07 = pd.read_csv(\"https://www.football-data.co.uk/mmz4281/1516/G1.csv\")\n",
        "GRE1_08 = pd.read_csv(\"https://www.football-data.co.uk/mmz4281/1415/G1.csv\")\n",
        "GRE1_09 = pd.read_csv(\"https://www.football-data.co.uk/mmz4281/1314/G1.csv\")\n",
        "GRE1_10 = pd.read_csv(\"https://www.football-data.co.uk/mmz4281/1213/G1.csv\")\n",
        "GRE1 = [GRE1_01,GRE1_02,GRE1_03,GRE1_04,GRE1_05,GRE1_06,GRE1_07,GRE1_08,GRE1_09,GRE1_10]\n",
        "GRE1 = pd.concat(GRE1)\n",
        "GRE1['Liga'] = 'Grécia 1'"
      ],
      "metadata": {
        "id": "TQQpHVhVex3O"
      },
      "execution_count": null,
      "outputs": []
    },
    {
      "cell_type": "markdown",
      "source": [
        "Concatenando as Planilhas"
      ],
      "metadata": {
        "id": "TSqOmpuTx6n8"
      }
    },
    {
      "cell_type": "code",
      "source": [
        "df = [ENG1, ENG2, SCO1, GER1, GER2, ITA1, ITA2, SPA1, SPA2, FRA1, FRA2, NET1, BEL1, POR1, TUR1, GRE1]\n",
        "df = pd.concat(df)"
      ],
      "metadata": {
        "id": "i6PFn7ssx-sq"
      },
      "execution_count": null,
      "outputs": []
    },
    {
      "cell_type": "markdown",
      "source": [
        "Selecionando e Renomeando as colunas que serão utilizadas"
      ],
      "metadata": {
        "id": "MYdoxjhPe2sq"
      }
    },
    {
      "cell_type": "code",
      "source": [
        "df = df[['Liga','Date','HomeTeam','AwayTeam','HTHG','HTAG','HTR','FTHG','FTAG','FTR','B365H','B365D','B365A']]\n",
        "df.columns = ['League','Date','Home','Away','Goals_H_HT','Goals_A_HT','Result_HT','Goals_H_FT','Goals_A_FT','Result_FT','Odd_H','Odds_D','Odds_A']"
      ],
      "metadata": {
        "id": "3JQRytp9fA65"
      },
      "execution_count": null,
      "outputs": []
    },
    {
      "cell_type": "markdown",
      "source": [
        "Visualizando o Resultado Final"
      ],
      "metadata": {
        "id": "HztQDswvgus2"
      }
    },
    {
      "cell_type": "code",
      "source": [
        "df"
      ],
      "metadata": {
        "id": "JHhhNPsbtqZ4"
      },
      "execution_count": null,
      "outputs": []
    },
    {
      "cell_type": "code",
      "source": [
        "df.info()"
      ],
      "metadata": {
        "id": "MOhjjJi9HZkF"
      },
      "execution_count": null,
      "outputs": []
    },
    {
      "cell_type": "code",
      "source": [
        "df = df.dropna()"
      ],
      "metadata": {
        "id": "hV3dA0BNH1Ni"
      },
      "execution_count": null,
      "outputs": []
    },
    {
      "cell_type": "code",
      "source": [
        "df.info()"
      ],
      "metadata": {
        "id": "vf-9ZTjsH_Mm"
      },
      "execution_count": null,
      "outputs": []
    },
    {
      "cell_type": "markdown",
      "source": [
        "Exportando arquivo final para o Excel"
      ],
      "metadata": {
        "id": "GWw7Z239fOZZ"
      }
    },
    {
      "cell_type": "code",
      "source": [
        "df.to_excel(\"Base_de_Dados_Full.xlsx\", index=False)"
      ],
      "metadata": {
        "id": "VKAW7L5OfRuQ"
      },
      "execution_count": null,
      "outputs": []
    },
    {
      "cell_type": "code",
      "source": [
        "df"
      ],
      "metadata": {
        "id": "qnXIHp2hcXfL"
      },
      "execution_count": null,
      "outputs": []
    },
    {
      "cell_type": "code",
      "source": [
        "# Calculando as Porcentagens de Over 0.5 HT, 1.5 HT e 2.5 HT\n",
        "df['Total_Goals_HT'] = df.apply(lambda row: (row['Goals_H_HT'] + row['Goals_A_HT']), axis=1) \n",
        "\n",
        "df['Over05_HT'] = df.apply(lambda row: 1 if (row['Total_Goals_HT'] >= 1) else 0, axis=1) \n",
        "df['Over15_HT'] = df.apply(lambda row: 1 if (row['Total_Goals_HT'] > 1) else 0, axis=1) \n",
        "df['Over25_HT'] = df.apply(lambda row: 1 if (row['Total_Goals_HT'] > 2) else 0, axis=1)   \n",
        "\n",
        "media_over05_HT_H = df[['Home','Over05_HT']].groupby('Home').mean() * 100\n",
        "media_over15_HT_H = df[['Home','Over15_HT']].groupby('Home').mean() * 100\n",
        "media_over25_HT_H = df[['Home','Over25_HT']].groupby('Home').mean() * 100\n",
        "\n",
        "media_over05_HT_A = df[['Away','Over05_HT']].groupby('Away').mean() * 100\n",
        "media_over15_HT_A = df[['Away','Over15_HT']].groupby('Away').mean() * 100\n",
        "media_over25_HT_A = df[['Away','Over25_HT']].groupby('Away').mean() * 100\n",
        "\n",
        "df_medias=pd.concat([media_over05_HT_H,media_over05_HT_A,media_over15_HT_H,media_over15_HT_A,media_over25_HT_H,media_over25_HT_A],axis=1)\n",
        "df_medias.columns = ['%_Over05_HT_Home','%_Over05_HT_Away','%_Over15_HT_Home','%_Over15_HT_Away','%_Over25_HT_Home','%_Over25_HT_Away']"
      ],
      "metadata": {
        "id": "dt_mVmFDcYJG"
      },
      "execution_count": null,
      "outputs": []
    },
    {
      "cell_type": "code",
      "source": [
        "# Calculando as Médias de Gols, Desvio Padrão e Coeficiente de Variação\n",
        "media_gols_HT_home = df[['Home','Goals_H_HT']].groupby('Home').mean()\n",
        "media_gols_HT_away = df[['Away','Goals_A_HT']].groupby('Away').mean()\n",
        "\n",
        "desvio_padrao_gols_HT_home = df[['Home','Goals_H_HT']].groupby('Home').std()\n",
        "desvio_padrao_gols_HT_away = df[['Away','Goals_A_HT']].groupby('Away').std()\n",
        "\n",
        "cv_gols_HT_home = desvio_padrao_gols_HT_home / media_gols_HT_home\n",
        "cv_gols_HT_away = desvio_padrao_gols_HT_away / media_gols_HT_away\n",
        "\n",
        "df_goals=pd.concat([media_gols_HT_home,media_gols_HT_away,desvio_padrao_gols_HT_home,desvio_padrao_gols_HT_away,cv_gols_HT_home,cv_gols_HT_away],axis=1)\n",
        "df_goals.columns = ['Média_Gols_HT_Home','Média_Gols_HT_Away','DP_Gols_Home','DP_Gols_Away','CV_Gols_HT_Home','CV_Gols_HT_Away']\n",
        "df_goals = df_goals[['Média_Gols_HT_Home','Média_Gols_HT_Away','CV_Gols_HT_Home','CV_Gols_HT_Away']]\n"
      ],
      "metadata": {
        "id": "jzriT2N-dS6W"
      },
      "execution_count": null,
      "outputs": []
    },
    {
      "cell_type": "code",
      "source": [
        "# Juntando as Porcentagens com as Médias e CV\n",
        "df_analise = pd.concat([df_goals,df_medias],axis=1)\n",
        "df_analise = df_analise.dropna()\n",
        "df_analise.to_excel(\"analise.xlsx\")"
      ],
      "metadata": {
        "id": "2Wxq6Woqd7_u"
      },
      "execution_count": null,
      "outputs": []
    },
    {
      "cell_type": "code",
      "source": [
        "df_analise"
      ],
      "metadata": {
        "id": "syFyILNweEH-"
      },
      "execution_count": null,
      "outputs": []
    },
    {
      "cell_type": "code",
      "source": [
        "# Analisando dois times específicos\n",
        "home = input(\"Digite o nome do Mandante: \")\n",
        "away = input(\"Digite o nome do Visitante: \")\n",
        "\n",
        "flt1 = df_analise[df_analise.index == home];\n",
        "flt2 = df_analise[df_analise.index == away];\n",
        "\n",
        "display(flt1, flt2)"
      ],
      "metadata": {
        "id": "fUCuJyRJeF1A"
      },
      "execution_count": null,
      "outputs": []
    }
  ]
}