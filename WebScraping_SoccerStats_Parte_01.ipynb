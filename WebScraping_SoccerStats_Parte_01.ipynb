{
  "cells": [
    {
      "cell_type": "code",
      "source": [
        "# Importando as Bibliotecas\n",
        "import pandas as pd\n",
        "import requests\n",
        "\n",
        "from google.colab import data_table\n",
        "data_table.enable_dataframe_formatter()"
      ],
      "metadata": {
        "id": "yV__CLMgi5cy"
      },
      "execution_count": null,
      "outputs": []
    },
    {
      "cell_type": "code",
      "source": [
        "#Informações para fingir ser um navegador\n",
        "header = {\n",
        "  \"User-Agent\": \"Mozilla/5.0 (X11; Linux x86_64) AppleWebKit/537.36 (KHTML, like Gecko) Chrome/50.0.2661.75 Safari/537.36\",\n",
        "  \"X-Requested-With\": \"XMLHttpRequest\"\n",
        "}\n",
        "\n",
        "#A url que você quer acesssar\n",
        "url_link1 = \"https://www.soccerstats.com/matches.asp?matchday=1&listing=1\"\n",
        "url_link2 = \"https://www.soccerstats.com/matches.asp?matchday=1&listing=2\"\n",
        "\n",
        "#juntamos tudo com a requests\n",
        "r1 = requests.get(url_link1, headers=header)\n",
        "r2 = requests.get(url_link2, headers=header)\n",
        "\n",
        "#E finalmente usamos a função read_html do pandas\n",
        "df1 = pd.read_html(r1.text)\n",
        "df2 = pd.read_html(r2.text)"
      ],
      "metadata": {
        "id": "16LafDv1h2iE"
      },
      "execution_count": null,
      "outputs": []
    },
    {
      "cell_type": "code",
      "source": [
        "len(df1)"
      ],
      "metadata": {
        "id": "96dLSjYk0cfb"
      },
      "execution_count": null,
      "outputs": []
    },
    {
      "cell_type": "code",
      "source": [
        "df1[6]"
      ],
      "metadata": {
        "id": "qqBhZtvIxROb"
      },
      "execution_count": null,
      "outputs": []
    },
    {
      "cell_type": "code",
      "source": [
        "len(df2)"
      ],
      "metadata": {
        "id": "b4Fxb-aq2POk"
      },
      "execution_count": null,
      "outputs": []
    },
    {
      "cell_type": "code",
      "source": [
        "df2[6]"
      ],
      "metadata": {
        "id": "iyH46MnSxTUw"
      },
      "execution_count": null,
      "outputs": []
    },
    {
      "cell_type": "code",
      "source": [
        "# GP: number of matches played\n",
        "# W%: percentage of matches won\n",
        "# FTS: % Failed to score\n",
        "# CS: % Clean sheet\n",
        "# BTS: % of matches where both teams scored \n",
        "# TG: Average total goals scored + conceded per match\n",
        "# GF: goals scored per match \n",
        "# GA: goals conceded per match\n",
        "# 1.5+: % of matches over 1.5 goals (scored + conceded)\n",
        "# 2.5+: % of matches over 2.5 goals (scored + conceded) \n",
        "# 3.5+: % of matches over 3.5 goals (scored + conceded)\n",
        "# PPG: Points per game"
      ],
      "metadata": {
        "id": "CuO-5GoIiBlN"
      },
      "execution_count": null,
      "outputs": []
    }
  ],
  "metadata": {
    "colab": {
      "collapsed_sections": [],
      "name": "WebScraping_SoccerStats_Parte_01.ipynb",
      "provenance": [],
      "private_outputs": true
    },
    "kernelspec": {
      "display_name": "Python 3",
      "name": "python3"
    },
    "language_info": {
      "name": "python"
    }
  },
  "nbformat": 4,
  "nbformat_minor": 0
}