{
  "nbformat": 4,
  "nbformat_minor": 0,
  "metadata": {
    "colab": {
      "name": "Análise Match Odds - Brasileirão.ipynb",
      "provenance": [],
      "collapsed_sections": [],
      "private_outputs": true
    },
    "kernelspec": {
      "name": "python3",
      "display_name": "Python 3"
    },
    "language_info": {
      "name": "python"
    }
  },
  "cells": [
    {
      "cell_type": "code",
      "execution_count": null,
      "metadata": {
        "id": "bknPLhIHeKs1"
      },
      "outputs": [],
      "source": [
        "# Importando as Bibliotecas\n",
        "import pandas as pd\n",
        "from google.colab import data_table\n",
        "data_table.enable_dataframe_formatter()\n",
        "import warnings\n",
        "warnings.filterwarnings('ignore')"
      ]
    },
    {
      "cell_type": "code",
      "source": [
        "# DataFrame do Campeonato Brasileiro\n",
        "df = pd.read_excel(\"https://www.football-data.co.uk/new/BRA.xlsx\")"
      ],
      "metadata": {
        "id": "TQQpHVhVex3O"
      },
      "execution_count": null,
      "outputs": []
    },
    {
      "cell_type": "code",
      "source": [
        "df = df[['Season','Date','Home','Away','HG','AG','Res','PH','PD','PA']]\n",
        "df.columns = ['Season','Date','Home','Away','Goals_H','Goals_A','Result','Odds_H','Odds_D','Odds_A']"
      ],
      "metadata": {
        "id": "0QGv6XgttbiK"
      },
      "execution_count": null,
      "outputs": []
    },
    {
      "cell_type": "code",
      "source": [
        "flt = df.Season == 2022\n",
        "df = df[flt]"
      ],
      "metadata": {
        "id": "EDetcvXRurYV"
      },
      "execution_count": null,
      "outputs": []
    },
    {
      "cell_type": "code",
      "source": [
        "def Prob_Home():\n",
        "    P_H = 1/df.Odds_H\n",
        "    return P_H\n",
        "\n",
        "def Prob_Draw():\n",
        "    P_D = 1/df.Odds_D\n",
        "    return P_D\n",
        "\n",
        "def Prob_Away():\n",
        "    P_A = 1/df.Odds_A\n",
        "    return P_A"
      ],
      "metadata": {
        "id": "tgLAGqcEwX3_"
      },
      "execution_count": null,
      "outputs": []
    },
    {
      "cell_type": "code",
      "source": [
        "df['p(H)'] = Prob_Home()\n",
        "df['p(D)'] = Prob_Draw()\n",
        "df['p(A)'] = Prob_Away()"
      ],
      "metadata": {
        "id": "UfJssd3JvujZ"
      },
      "execution_count": null,
      "outputs": []
    },
    {
      "cell_type": "code",
      "source": [
        "team = \"Sao Paulo\"\n",
        "df1 = df.groupby(['Home']).get_group(team)\n",
        "df2 = df.groupby(['Away']).get_group(team)"
      ],
      "metadata": {
        "id": "pdDXqxsbv7gT"
      },
      "execution_count": null,
      "outputs": []
    },
    {
      "cell_type": "code",
      "source": [
        "df1"
      ],
      "metadata": {
        "id": "9ZGZzoE-zCIS"
      },
      "execution_count": null,
      "outputs": []
    },
    {
      "cell_type": "code",
      "source": [
        "flt1 = df1.Goals_H > df1.Goals_A\n",
        "df_H = df1[flt1]\n",
        "df_H"
      ],
      "metadata": {
        "id": "aNgLMxu7w35C"
      },
      "execution_count": null,
      "outputs": []
    },
    {
      "cell_type": "code",
      "source": [
        "vitorias_Home = len(df_H)\n",
        "nao_vitorias_Home = len(df1) - len(df_H)"
      ],
      "metadata": {
        "id": "JhOzSfAIxA5Z"
      },
      "execution_count": null,
      "outputs": []
    },
    {
      "cell_type": "code",
      "source": [
        "df2"
      ],
      "metadata": {
        "id": "2nDfq3KYzEkj"
      },
      "execution_count": null,
      "outputs": []
    },
    {
      "cell_type": "code",
      "source": [
        "flt2 = df2.Goals_A > df2.Goals_H\n",
        "df_A = df2[flt2]\n",
        "df_A"
      ],
      "metadata": {
        "id": "W8wkh_ubzFPw"
      },
      "execution_count": null,
      "outputs": []
    },
    {
      "cell_type": "code",
      "source": [
        "vitorias_Away = len(df_A)\n",
        "nao_vitorias_Away = len(df2) - len(df_A)"
      ],
      "metadata": {
        "id": "z4AnQ_XGzI_W"
      },
      "execution_count": null,
      "outputs": []
    },
    {
      "cell_type": "code",
      "source": [
        "vitorias = vitorias_Home + vitorias_Away\n",
        "nao_vitorias = nao_vitorias_Home + nao_vitorias_Away\n",
        "print(\"O \"+ team + \" venceu \" + str(vitorias) + \" partidas e não venceu \" + str(nao_vitorias) + \" partidas\")"
      ],
      "metadata": {
        "id": "SuWuiuCxzjiL"
      },
      "execution_count": null,
      "outputs": []
    },
    {
      "cell_type": "code",
      "source": [
        "Green = vitorias*1\n",
        "Red = nao_vitorias*1"
      ],
      "metadata": {
        "id": "ZRq8Kcw9zw_k"
      },
      "execution_count": null,
      "outputs": []
    },
    {
      "cell_type": "code",
      "source": [
        "Prob_justa = Green/Red\n",
        "Odd_justa = 1 / Prob_justa\n",
        "print(\"A Odd Justa para a pŕoxima partida do \" + team + \" é: \" + str(Odd_justa)) "
      ],
      "metadata": {
        "id": "28REC1Xy0blq"
      },
      "execution_count": null,
      "outputs": []
    },
    {
      "cell_type": "code",
      "source": [
        "1/2.75"
      ],
      "metadata": {
        "id": "TbgLERBW6VCF"
      },
      "execution_count": null,
      "outputs": []
    }
  ]
}