{
  "cells": [
    {
      "cell_type": "code",
      "source": [
        "# Importando as Bibliotecas\n",
        "import pandas as pd\n",
        "import requests\n",
        "\n",
        "from google.colab import data_table\n",
        "data_table.enable_dataframe_formatter()"
      ],
      "metadata": {
        "id": "yV__CLMgi5cy"
      },
      "execution_count": null,
      "outputs": []
    },
    {
      "cell_type": "code",
      "source": [
        "#Ligas\n",
        "#\n",
        "# Argentina, Brasil 1, Brasil 2, Brasil 3, EUA\n",
        "#\n",
        "Liga = input(\"Digite o nome da Liga: \")"
      ],
      "metadata": {
        "id": "p5YR73j7Ibk6"
      },
      "execution_count": null,
      "outputs": []
    },
    {
      "cell_type": "code",
      "source": [
        "# Baixando os dados da Liga Escolhida\n",
        "if Liga == \"Argentina\":\n",
        "  liga = \"argentina\"\n",
        "elif Liga == \"Brasil 1\":\n",
        "  liga = \"brazil\"\n",
        "elif Liga == \"Brasil 2\":\n",
        "  liga = \"brazil2\"\n",
        "elif Liga == \"Brasil 3\":\n",
        "  liga = \"brazil3\"\n",
        "elif Liga == \"EUA\":\n",
        "  liga = \"usa\""
      ],
      "metadata": {
        "id": "rs-cQNNWIxXr"
      },
      "execution_count": null,
      "outputs": []
    },
    {
      "cell_type": "code",
      "source": [
        "import requests\n",
        "#Informações para fingir ser um navegador\n",
        "header = {\n",
        "  \"User-Agent\": \"Mozilla/5.0 (X11; Linux x86_64) AppleWebKit/537.36 (KHTML, like Gecko) Chrome/50.0.2661.75 Safari/537.36\",\n",
        "  \"X-Requested-With\": \"XMLHttpRequest\"\n",
        "}\n",
        "#A url que você quer acesssar\n",
        "url_link1 = \"https://www.soccerstats.com/results.asp?league={}&pmtype=bydate\"\n",
        "url1 = url_link1.format(liga)\n",
        "url_link2 = \"https://www.soccerstats.com/latest.asp?league={}\"\n",
        "url2 = url_link2.format(liga)\n",
        "\n",
        "#juntamos tudo com a requests\n",
        "r1 = requests.get(url1, headers=header)\n",
        "r2 = requests.get(url2, headers=header)\n",
        "\n",
        "#E finalmente usamos a função read_html do pandas\n",
        "df1 = pd.read_html(r1.text)\n",
        "df2 = pd.read_html(r2.text)"
      ],
      "metadata": {
        "id": "16LafDv1h2iE"
      },
      "execution_count": null,
      "outputs": []
    },
    {
      "cell_type": "code",
      "source": [
        "len(df1)"
      ],
      "metadata": {
        "id": "96dLSjYk0cfb"
      },
      "execution_count": null,
      "outputs": []
    },
    {
      "cell_type": "code",
      "source": [
        "if Liga == \"Argentina\":\n",
        "    jogos = df1[8]\n",
        "elif Liga == \"Brasil 1\":\n",
        "    jogos = df1[9]\n",
        "elif Liga == \"Brasil 2\":\n",
        "    jogos = df1[9]\n",
        "elif Liga == \"Brasil 3\":\n",
        "    jogos = df1[9]\n",
        "elif Liga == \"EUA\":\n",
        "    jogos = df1[8]"
      ],
      "metadata": {
        "id": "CuO-5GoIiBlN"
      },
      "execution_count": null,
      "outputs": []
    },
    {
      "cell_type": "code",
      "source": [
        "jogos=jogos.drop(jogos.index[[0,1]])\n",
        "jogos = jogos[[0,1,2,3,5]]\n",
        "jogos.columns = ['Data','Mandante','Resultado','Visitante','HT']\n",
        "jogos = jogos.dropna()\n",
        "jogos=jogos.reset_index()\n",
        "jogos = jogos.rename(index=lambda x: x + 1)"
      ],
      "metadata": {
        "id": "g5gvsjpoLFE1"
      },
      "execution_count": null,
      "outputs": []
    },
    {
      "cell_type": "code",
      "source": [
        "df = jogos\n",
        "df = df[['Data','Mandante','Resultado','Visitante','HT']]\n",
        "df"
      ],
      "metadata": {
        "id": "LxoYP1cKMmgL"
      },
      "execution_count": null,
      "outputs": []
    },
    {
      "cell_type": "code",
      "source": [
        "df.to_excel(\"SoccerStats.xlsx\")"
      ],
      "metadata": {
        "id": "zXyoiOuQh4V9"
      },
      "execution_count": null,
      "outputs": []
    },
    {
      "cell_type": "code",
      "source": [
        "len(df2)"
      ],
      "metadata": {
        "id": "pynGANCyOFUR"
      },
      "execution_count": null,
      "outputs": []
    },
    {
      "cell_type": "code",
      "source": [
        "a = len(df2)-23\n",
        "b = a + 1"
      ],
      "metadata": {
        "id": "5himKFqtNH79"
      },
      "execution_count": null,
      "outputs": []
    },
    {
      "cell_type": "code",
      "source": [
        "Tables_Overview_Offence = df2[a]\n",
        "Tables_Overview_Offence = Tables_Overview_Offence.drop(labels=0, axis=1)\n",
        "Tables_Overview_Offence = Tables_Overview_Offence.drop(labels=1, axis=0)\n",
        "Tables_Overview_Offence = Tables_Overview_Offence.drop(labels=0, axis=0)\n",
        "Tables_Overview_Offence = Tables_Overview_Offence.rename(index=lambda x: x - 1)\n",
        "Tables_Overview_Offence = Tables_Overview_Offence[[1, 2, 3]]\n",
        "Tables_Overview_Offence.columns = ['Times','Partidas','Gols Marcados']\n",
        "Tables_Overview_Offence"
      ],
      "metadata": {
        "id": "6DoxdLnbNREf"
      },
      "execution_count": null,
      "outputs": []
    },
    {
      "cell_type": "code",
      "source": [
        "Tables_Overview_Defence = df2[b]\n",
        "Tables_Overview_Defence = Tables_Overview_Defence.drop(labels=0, axis=1)\n",
        "Tables_Overview_Defence = Tables_Overview_Defence.drop(labels=1, axis=0)\n",
        "Tables_Overview_Defence = Tables_Overview_Defence.drop(labels=0, axis=0)\n",
        "Tables_Overview_Defence = Tables_Overview_Defence.rename(index=lambda x: x - 1)\n",
        "Tables_Overview_Defence = Tables_Overview_Defence[[1, 2, 3]]\n",
        "Tables_Overview_Defence.columns = ['Times','Partidas','Gols Sofridos']\n",
        "Tables_Overview_Defence"
      ],
      "metadata": {
        "id": "GXZH1HFqNTQE"
      },
      "execution_count": null,
      "outputs": []
    }
  ],
  "metadata": {
    "colab": {
      "collapsed_sections": [],
      "name": "WebScraping_SoccerStats_Parte_03.ipynb",
      "provenance": [],
      "private_outputs": true
    },
    "kernelspec": {
      "display_name": "Python 3",
      "name": "python3"
    },
    "language_info": {
      "name": "python"
    }
  },
  "nbformat": 4,
  "nbformat_minor": 0
}