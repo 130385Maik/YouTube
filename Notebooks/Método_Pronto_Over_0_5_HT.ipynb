{
  "nbformat": 4,
  "nbformat_minor": 0,
  "metadata": {
    "colab": {
      "name": "Método Pronto - Over 0.5 HT.ipynb",
      "provenance": [],
      "collapsed_sections": [
        "sHwRHe5YcHYn",
        "av-QJGpNqLpD",
        "Vrpk5_jbQEDu",
        "tLMkHOTYqjWv"
      ],
      "private_outputs": true
    },
    "kernelspec": {
      "name": "python3",
      "display_name": "Python 3"
    },
    "language_info": {
      "name": "python"
    }
  },
  "cells": [
    {
      "cell_type": "markdown",
      "source": [
        "# Over 0.5 HT"
      ],
      "metadata": {
        "id": "GT_LuR8Sur8z"
      }
    },
    {
      "cell_type": "markdown",
      "source": [
        "**Critérios do Método**\n",
        "\n",
        "a) Calculamos a Porcentagem de Over 0.5 HT\n",
        "\n",
        "b) Calculamos a Porcentagem de Over 2.5 FT\n",
        "\n",
        "c) Calculamos a Média de Gols Total no HT do Mandante\n",
        "\n",
        "d) Calculamos a Média de Gols Total no HT do Visitante\n",
        "\n",
        "e) Calculamos o Desvio Padrão e o Coeficiente de Variação dessas Médias\n",
        "\n",
        "f) Definimos nosso Filtro Estatístico:\n",
        "1. Porcentagem de Over 0.5 HT Total > 75% \n",
        "2. Porcentagem de Over 2.5 FT Total > 50%\n",
        "3. Média de Gols Total HT Home > 1 \n",
        "4. Média de Gols Total HT Away > 1\n",
        "5. CV de Gols Total HT Home < 1 \n",
        "6. CV de Gols Total HT Away < 1\n",
        "\n",
        "g) Todos os jogos que possuem esses dados entramos com Odd Mínima de 1.54 \n",
        "\n",
        "\n"
      ],
      "metadata": {
        "id": "ZEIwRZ9GupRJ"
      }
    },
    {
      "cell_type": "markdown",
      "source": [
        "# Importando as Bibliotecas e o DataFrame "
      ],
      "metadata": {
        "id": "sHwRHe5YcHYn"
      }
    },
    {
      "cell_type": "code",
      "execution_count": null,
      "metadata": {
        "id": "bknPLhIHeKs1"
      },
      "outputs": [],
      "source": [
        "import pandas as pd\n",
        "from google.colab import data_table\n",
        "data_table.enable_dataframe_formatter()\n",
        "import warnings\n",
        "warnings.filterwarnings('ignore')"
      ]
    },
    {
      "cell_type": "code",
      "source": [
        "# DataFrame 2021/2022\n",
        "# df = pd.read_excel(\"https://github.com/futpythontrader/YouTube/blob/main/DataFrame_2021_2022.xlsx?raw=true\")\n",
        "\n",
        "# DataFrame 2020/2021\n",
        "df = pd.read_excel(\"https://github.com/futpythontrader/YouTube/blob/main/DataFrame_2020_2021.xlsx?raw=true\")"
      ],
      "metadata": {
        "id": "TQQpHVhVex3O"
      },
      "execution_count": null,
      "outputs": []
    },
    {
      "cell_type": "markdown",
      "source": [
        "# Porcentagem de Gols"
      ],
      "metadata": {
        "id": "av-QJGpNqLpD"
      }
    },
    {
      "cell_type": "code",
      "source": [
        "df['Total_Goals_HT'] = df.apply(lambda row: (row['Goals_H_HT'] + row['Goals_A_HT']), axis=1)\n",
        "df['Total_Goals_FT'] = df.apply(lambda row: (row['Goals_H_FT'] + row['Goals_A_FT']), axis=1) \n",
        "\n",
        "df['Over05_HT'] = df.apply(lambda row: 1 if (row['Total_Goals_HT'] > 0) else 0, axis=1) \n",
        "df['Over25_FT'] = df.apply(lambda row: 1 if (row['Total_Goals_FT'] > 2) else 0, axis=1) "
      ],
      "metadata": {
        "id": "Am9razpTqPJr"
      },
      "execution_count": null,
      "outputs": []
    },
    {
      "cell_type": "code",
      "source": [
        "df['Porc_Over05HT_Home'] = (df.groupby('Home')['Over05_HT'].rolling(window=5, min_periods=1).mean().reset_index(0,drop=True) * 100).shift(1)\n",
        "df['Porc_Over05HT_Away'] = (df.groupby('Away')['Over05_HT'].rolling(window=5, min_periods=1).mean().reset_index(0,drop=True) * 100).shift(1)\n",
        "\n",
        "df['Porc_Over25FT_Home'] = (df.groupby('Home')['Over25_FT'].rolling(window=5, min_periods=1).mean().reset_index(0,drop=True) * 100).shift(1)\n",
        "df['Porc_Over25FT_Away'] = (df.groupby('Away')['Over25_FT'].rolling(window=5, min_periods=1).mean().reset_index(0,drop=True) * 100).shift(1)"
      ],
      "metadata": {
        "id": "HU4QsgaSqVuW"
      },
      "execution_count": null,
      "outputs": []
    },
    {
      "cell_type": "markdown",
      "source": [
        "# Médias, Desvio Padrão e Coeficiente de Variação"
      ],
      "metadata": {
        "id": "Vrpk5_jbQEDu"
      }
    },
    {
      "cell_type": "code",
      "source": [
        "df['Media_Gols_Total_HT_Home'] = df.groupby('Home')['Total_Goals_HT'].rolling(window=5, min_periods=1).mean().reset_index(0,drop=True).shift(1)\n",
        "df['Media_Gols_Total_HT_Away'] = df.groupby('Away')['Total_Goals_HT'].rolling(window=5, min_periods=1).mean().reset_index(0,drop=True).shift(1)"
      ],
      "metadata": {
        "id": "cNmbqsGbQbzT"
      },
      "execution_count": null,
      "outputs": []
    },
    {
      "cell_type": "code",
      "source": [
        "df['DP_Gols_Total_HT_Home'] = df.groupby('Home')['Total_Goals_HT'].rolling(window=5, min_periods=1).std().reset_index(0,drop=True).shift(1)\n",
        "df['DP_Gols_Total_HT_Away'] = df.groupby('Away')['Total_Goals_HT'].rolling(window=5, min_periods=1).std().reset_index(0,drop=True).shift(1)"
      ],
      "metadata": {
        "id": "HItodtlFTQax"
      },
      "execution_count": null,
      "outputs": []
    },
    {
      "cell_type": "code",
      "source": [
        "df['CV_Gols_Total_HT_Home'] = (df['DP_Gols_Total_HT_Home'] / df['Media_Gols_Total_HT_Home']).shift(1)\n",
        "df['CV_Gols_Total_HT_Away'] = (df['DP_Gols_Total_HT_Away'] / df['Media_Gols_Total_HT_Away']).shift(1)"
      ],
      "metadata": {
        "id": "SHqBRdpvUGt9"
      },
      "execution_count": null,
      "outputs": []
    },
    {
      "cell_type": "code",
      "source": [
        "df0 = df.groupby(['Home']).get_group('Liverpool')\n",
        "df0 = df0[['Home','Away','Goals_H_HT','Goals_A_HT','Media_Gols_Total_HT_Home','Media_Gols_Total_HT_Away','CV_Gols_Total_HT_Home','CV_Gols_Total_HT_Away']]\n",
        "df0.tail(10)"
      ],
      "metadata": {
        "id": "YV-qmXJGGf8k"
      },
      "execution_count": null,
      "outputs": []
    },
    {
      "cell_type": "markdown",
      "source": [
        "# Ajustando o DataFrame"
      ],
      "metadata": {
        "id": "tLMkHOTYqjWv"
      }
    },
    {
      "cell_type": "code",
      "source": [
        "df1 = df[['Home','Away','Goals_H_HT','Goals_A_HT','Total_Goals_HT','Porc_Over05HT_Home','Porc_Over05HT_Away','Porc_Over25FT_Home','Porc_Over25FT_Away','Media_Gols_Total_HT_Home','Media_Gols_Total_HT_Away','CV_Gols_Total_HT_Home','CV_Gols_Total_HT_Away']]\n",
        "df1 = df1.dropna()"
      ],
      "metadata": {
        "id": "lKBnw-avqmz4"
      },
      "execution_count": null,
      "outputs": []
    },
    {
      "cell_type": "markdown",
      "source": [
        "# Filtro Estatístico"
      ],
      "metadata": {
        "id": "ftB2NBJ-PlDp"
      }
    },
    {
      "cell_type": "code",
      "source": [
        "# Selecionando o Filtro Estatítisco\n",
        "flt2 = ((df1.Porc_Over05HT_Home + df1.Porc_Over05HT_Away) > 75) & ((df1.Porc_Over25FT_Home + df1.Porc_Over25FT_Away) > 50) & (df1.Media_Gols_Total_HT_Home > 1) & (df1.Media_Gols_Total_HT_Away > 1) & (df1.CV_Gols_Total_HT_Home < 1) & (df1.CV_Gols_Total_HT_Away < 1)\n",
        "# Teste sem o CV\n",
        "# flt2 = ((df1.Porc_Over05HT_Home + df1.Porc_Over05HT_Away) > 75) & ((df1.Porc_Over25FT_Home + df1.Porc_Over25FT_Away) > 50) & (df1.Media_Gols_Total_HT_Home > 1) & (df1.Media_Gols_Total_HT_Away > 1)\n",
        "df2 = df1[flt2];\n",
        "# Ajustando o Índice\n",
        "df2.reset_index(inplace=True, drop=True)\n",
        "df2.index = df2.index.set_names(['Nº'])\n",
        "df2 = df2.rename(index=lambda x: x + 1)"
      ],
      "metadata": {
        "id": "SuI3lanePnoK"
      },
      "execution_count": null,
      "outputs": []
    },
    {
      "cell_type": "markdown",
      "source": [
        "# Resultados"
      ],
      "metadata": {
        "id": "CQQkRct0Uk6A"
      }
    },
    {
      "cell_type": "code",
      "source": [
        "df2['Odds_Over05_HT'] = 1.54\n",
        "Stake = 1\n",
        "green = Stake * (df2.Odds_Over05_HT - 1) \n",
        "red = -Stake\n",
        "\n",
        "# Over 0.5 HT\n",
        "df2.loc[((df2['Total_Goals_HT']) > 0), 'Profit_Over05HT'] = green\n",
        "df2.loc[((df2['Total_Goals_HT']) == 0), 'Profit_Over05HT'] = red\n",
        "df2['Profit_acu_Over05HT'] = df2.Profit_Over05HT.cumsum()\n",
        "df2.Profit_acu_Over05HT.plot(title='Over 0.5 HT', xlabel='Quantidade de Apostas', ylabel='Stakes')"
      ],
      "metadata": {
        "id": "voEc2lGOR677"
      },
      "execution_count": null,
      "outputs": []
    },
    {
      "cell_type": "code",
      "source": [
        "df2['Profit_acu_Over05HT'].tail(1)"
      ],
      "metadata": {
        "id": "fbg2SN9DSI4F"
      },
      "execution_count": null,
      "outputs": []
    },
    {
      "cell_type": "code",
      "source": [
        "df2.head(10)"
      ],
      "metadata": {
        "id": "0UnqY_HNn9tO"
      },
      "execution_count": null,
      "outputs": []
    }
  ]
}