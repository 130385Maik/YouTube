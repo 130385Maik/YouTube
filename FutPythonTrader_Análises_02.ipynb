{
  "nbformat": 4,
  "nbformat_minor": 0,
  "metadata": {
    "colab": {
      "name": "FutPythonTrader_Análises_02.ipynb",
      "provenance": [],
      "private_outputs": true,
      "collapsed_sections": []
    },
    "kernelspec": {
      "name": "python3",
      "display_name": "Python 3"
    },
    "language_info": {
      "name": "python"
    }
  },
  "cells": [
    {
      "cell_type": "code",
      "execution_count": null,
      "metadata": {
        "id": "i_kddJwIQcKL"
      },
      "outputs": [],
      "source": [
        "# Importando as Bibliotecas\n",
        "import pandas as pd\n",
        "import numpy as np\n",
        "from google.colab import data_table\n",
        "data_table.enable_dataframe_formatter()"
      ]
    },
    {
      "cell_type": "code",
      "source": [
        "# Importando a Base de Dados\n",
        "# df = pd.read_excel('Base_de_Dados_Full_v2.xlsx')\n",
        "df = pd.read_excel('https://github.com/futpythontrader/YouTube/blob/main/Base_de_Dados_Full_v2.xlsx?raw=true')"
      ],
      "metadata": {
        "id": "q1Br0HBKQ6YB"
      },
      "execution_count": null,
      "outputs": []
    },
    {
      "cell_type": "code",
      "source": [
        "# Renomeando as Colunas e Ordenando por Data os Jogos\n",
        "df = df[['Liga','Data','Mandante','Visitante','Odds Mandante','Odds Empate','Odds Visitante','Gols Mandante','Gols Visitante','Resultado']]\n",
        "df.columns = ['League','Date','Home','Away','Odds_H','Odds_D','Odds_A','Goals_H','Goals_A','Result']\n",
        "df['Date'] = df['Date'].dt.strftime('%Y/%m/%d')\n",
        "df = df.sort_values('Date')"
      ],
      "metadata": {
        "id": "--u0P4KDRBwV"
      },
      "execution_count": null,
      "outputs": []
    },
    {
      "cell_type": "code",
      "source": [
        "# Ajustando o Índice\n",
        "df.reset_index(inplace=True, drop=True)\n",
        "df.index = df.index.set_names(['Nº do Jogo'])\n",
        "df = df.rename(index=lambda x: x + 1)"
      ],
      "metadata": {
        "id": "iOzJC-qPRKDA"
      },
      "execution_count": null,
      "outputs": []
    },
    {
      "cell_type": "code",
      "source": [
        "# Visualizando o DataFrame\n",
        "df"
      ],
      "metadata": {
        "id": "hbDckt9s1jmb"
      },
      "execution_count": null,
      "outputs": []
    },
    {
      "cell_type": "code",
      "source": [
        "# Criando a Coluna de Pontos Obtidos\n",
        "def Pontos_H (Result):\n",
        "    if Result == 'H':\n",
        "        Pontos = 3\n",
        "    elif Result == 'D':\n",
        "        Pontos = 1\n",
        "    else:\n",
        "        Pontos = 0\n",
        "    return Pontos\n",
        "\n",
        "def Pontos_A (Result):\n",
        "    if Result == 'A':\n",
        "        Pontos = 3\n",
        "    elif Result == 'D':\n",
        "        Pontos = 1\n",
        "    else:\n",
        "        Pontos = 0\n",
        "    return Pontos\n",
        "\n",
        "df['Pontos_H'] = df.apply(lambda row: Pontos_H(row['Result']), axis=1)\n",
        "df['Pontos_A'] = df.apply(lambda row: Pontos_A(row['Result']), axis=1)"
      ],
      "metadata": {
        "id": "TdxhFaWJRCXO"
      },
      "execution_count": null,
      "outputs": []
    },
    {
      "cell_type": "code",
      "source": [
        "# Visualizando o DataFrame\n",
        "df"
      ],
      "metadata": {
        "id": "YtMmj8ZKDD3d"
      },
      "execution_count": null,
      "outputs": []
    }
  ]
}